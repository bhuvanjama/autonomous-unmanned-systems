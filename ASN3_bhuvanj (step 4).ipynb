{
 "cells": [
  {
   "cell_type": "markdown",
   "id": "d9c2b1c8",
   "metadata": {},
   "source": [
    "Step 4"
   ]
  },
  {
   "cell_type": "code",
   "execution_count": null,
   "id": "c2cf13b1",
   "metadata": {},
   "outputs": [],
   "source": [
    "#imports\n",
    "import cv2\n",
    "import numpy as np\n",
    "import matplotlib.pyplot as plt\n",
    "from scipy.stats import multivariate_normal"
   ]
  },
  {
   "cell_type": "code",
   "execution_count": null,
   "id": "6e014c48",
   "metadata": {},
   "outputs": [],
   "source": [
    "cap = cv2.VideoCapture(\"/Users/bhuvanjama/repos/fire/ASN3_Data/Vid.mp4\")\n",
    "\n",
    "while(1):\n",
    "\n",
    "    _, frame = cap.read()\n",
    "\n",
    "    hsv = cv2.cvtColor(frame, cv2.COLOR_BGR2HSV)\n",
    "\n",
    "    orangeMin = np.array([5, 50, 50],np.uint8)\n",
    "    orangeMax = np.array([15, 255, 255],np.uint8)\n",
    "\n",
    "    mask = cv2.inRange(hsv, orangeMin, orangeMax)\n",
    "\n",
    "    cv2.imshow('Color edge detection',mask)\n",
    "\n",
    "    cv2.waitKey(1)\n",
    "\n",
    "cv2.destroyAllWindows()"
   ]
  },
  {
   "cell_type": "code",
   "execution_count": null,
   "id": "02485848",
   "metadata": {},
   "outputs": [],
   "source": [
    "# Improved Color Detection\n",
    "\n",
    "cap1 = cv2.VideoCapture('/Users/bhuvanjama/repos/fire/ASN3_Data/Vid.mp4')\n",
    "\n",
    "while(1):\n",
    "\n",
    "    _, frame = cap1.read()\n",
    "\n",
    "    hsv = cv2.cvtColor(frame, cv2.COLOR_BGR2HLS)\n",
    "\n",
    "    orangeMin = np.array([5, 50, 50],np.uint8)\n",
    "    orangeMax = np.array([15, 255, 255],np.uint8)\n",
    "\n",
    "    mask = cv2.inRange(hsv, orangeMin, orangeMax)\n",
    "\n",
    "    cv2.imshow('Improved Color edge detection',mask)\n",
    "\n",
    "    cv2.waitKey(1)\n",
    "\n",
    "cv2.destroyAllWindows()"
   ]
  },
  {
   "cell_type": "code",
   "execution_count": null,
   "id": "8746de59",
   "metadata": {},
   "outputs": [],
   "source": [
    "# Gaussian Color Detection\n",
    "cap = cv2.VideoCapture('/Users/bhuvanjama/repos/fire/ASN3_Data/Vid.mp4')\n",
    "frameCount = int(cap.get(cv2.CAP_PROP_FRAME_COUNT))\n",
    "frameWidth= int(cap.get(cv2.CAP_PROP_FRAME_WIDTH))\n",
    "frameHeight= int(cap.get(cv2.CAP_PROP_FRAME_HEIGHT))\n",
    "writer= cv2.VideoWriter('ccolorDetectionn.avi', cv2.VideoWriter_fourcc(*'mp4v'), 20, (width,height))\n",
    "\n",
    "mask = 0\n",
    "while(cap.isOpened()):\n",
    "    _, frame = cap.read()\n",
    "    rgb = cv2.cvtColor(frame, cv2.COLOR_BGR2RGB)\n",
    "    ORANGE_MIN = np.array([92, 91, 3],np.uint8)\n",
    "    ORANGE_MAX = np.array([247, 187, 93],np.uint8)\n",
    "    mask = cv2.inRange(rgb, ORANGE_MIN, ORANGE_MAX)\n",
    "    b = np.mean(mask)\n",
    "    c = np.cov(mask)\n",
    "    h = mask[0]\n",
    "    w = mask[1]\n",
    "    for i in h:\n",
    "        for j in w:\n",
    "            if (mask[i][j] == 255):\n",
    "                a = (1/(np.sqrt(2 * np.pi * np.linalg.det(c)))) \n",
    "                    * np.exp(-1/2 * np.transpose(mask[i][j] - b).matlmul(np.linalg.inv(c)) * (mask[i][j] - b))\n",
    "                mask[i][j] = a * 255\n",
    "                writer.write(a)\n",
    "            else:\n",
    "                mask[i][j] = 0\n",
    "                writer.write(mask)\n",
    "    cv2.waitKey(1)\n",
    "    cv2.imshow('Gaussian', mask )"
   ]
  }
 ],
 "metadata": {
  "kernelspec": {
   "display_name": "Python 3",
   "language": "python",
   "name": "python3"
  },
  "language_info": {
   "codemirror_mode": {
    "name": "ipython",
    "version": 3
   },
   "file_extension": ".py",
   "mimetype": "text/x-python",
   "name": "python",
   "nbconvert_exporter": "python",
   "pygments_lexer": "ipython3",
   "version": "3.8.8"
  }
 },
 "nbformat": 4,
 "nbformat_minor": 5
}
