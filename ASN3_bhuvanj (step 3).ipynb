{
 "cells": [
  {
   "cell_type": "markdown",
   "id": "1cf5e727",
   "metadata": {},
   "source": [
    "Step 3"
   ]
  },
  {
   "cell_type": "code",
   "execution_count": null,
   "id": "2a1b5d59",
   "metadata": {},
   "outputs": [],
   "source": [
    "#Imports\n",
    "import cv2\n",
    "import numpy as np\n",
    "import matplotlib.pyplot as plt"
   ]
  },
  {
   "cell_type": "code",
   "execution_count": null,
   "id": "fdcfee63",
   "metadata": {},
   "outputs": [],
   "source": [
    "imageRGB = cv2.imread(\"/Users/bhuvanjama/repos/fire/ASN3_Data/Frame0064.png\")\n",
    "cv2.imshow(\"RGB\", imageRGB)\n",
    "blue, green, red = cv2.split(imageRGB)\n",
    "cv2.imshow(\"blue\", blue)\n",
    "cv2.imshow(\"red\", red)\n",
    "cv2.imshow(\"green\", green)\n",
    "cv2.waitKey(1)\n",
    "\n",
    "imageHSV = cv2.cvtColor(imageRGB, cv2.COLOR_RGB2HSV)\n",
    "cv2.imshow(\"HSV\", imageHSV)"
   ]
  }
 ],
 "metadata": {
  "kernelspec": {
   "display_name": "Python 3",
   "language": "python",
   "name": "python3"
  },
  "language_info": {
   "codemirror_mode": {
    "name": "ipython",
    "version": 3
   },
   "file_extension": ".py",
   "mimetype": "text/x-python",
   "name": "python",
   "nbconvert_exporter": "python",
   "pygments_lexer": "ipython3",
   "version": "3.8.8"
  }
 },
 "nbformat": 4,
 "nbformat_minor": 5
}
