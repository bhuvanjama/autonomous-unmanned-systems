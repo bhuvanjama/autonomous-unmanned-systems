{
 "cells": [
  {
   "cell_type": "code",
   "execution_count": 1,
   "id": "280ba028",
   "metadata": {},
   "outputs": [],
   "source": [
    "#Let's Learn Python"
   ]
  },
  {
   "cell_type": "code",
   "execution_count": 2,
   "id": "87066e63",
   "metadata": {},
   "outputs": [],
   "source": [
    "#Necessary imports\n",
    "import numpy as np\n",
    "from numpy.linalg import inv\n",
    "from numpy import linalg as LNG \n",
    "import random"
   ]
  },
  {
   "cell_type": "code",
   "execution_count": 3,
   "id": "f86bdd9f",
   "metadata": {},
   "outputs": [],
   "source": [
    "#If the module is being run in the main program then the name will be set to \"__main__\". However, if code that is \n",
    "#being imported from another module is being run, then the name of that module will be set to the \"__name__\" variable.\n",
    "#A module in python can be viewed as a code library or a file that contains a set of functions, classes and variables."
   ]
  },
  {
   "cell_type": "code",
   "execution_count": 4,
   "id": "45ce7486",
   "metadata": {},
   "outputs": [],
   "source": [
    "#Matrix compare function\n",
    "def matrixCompare(A,B):\n",
    "    if(A.size != B.size):\n",
    "        raise Exception(\"Matricies need to be of same size!\")\n",
    "        return\n",
    "    else:\n",
    "        Atran = np.transpose(A)\n",
    "        Ainv = inv(A)\n",
    "        val = np.dot(Atran, B)\n",
    "        return np.dot(val, Ainv)  "
   ]
  },
  {
   "cell_type": "code",
   "execution_count": 5,
   "id": "d2638c44",
   "metadata": {},
   "outputs": [
    {
     "data": {
      "text/plain": [
       "array([[ 36.52631579, -15.57894737],\n",
       "       [ 10.31578947,  -4.94736842]])"
      ]
     },
     "execution_count": 5,
     "metadata": {},
     "output_type": "execute_result"
    }
   ],
   "source": [
    "A = np.random.randint(10, size = (2,2))\n",
    "B = np.random.randint(10, size = (2,2))\n",
    "matrixCompare(A, B)"
   ]
  },
  {
   "cell_type": "code",
   "execution_count": 6,
   "id": "43b5ebcb",
   "metadata": {
    "scrolled": true
   },
   "outputs": [
    {
     "data": {
      "text/plain": [
       "array([[-4.34210526, 16.80921053,  3.13815789],\n",
       "       [ 4.92105263, 16.78289474, -0.25657895],\n",
       "       [ 2.47368421, 17.80263158,  0.03947368]])"
      ]
     },
     "execution_count": 6,
     "metadata": {},
     "output_type": "execute_result"
    }
   ],
   "source": [
    "A = np.random.randint(10, size = (3,3))\n",
    "B = np.random.randint(10, size = (3,3))\n",
    "matrixCompare(A, B)"
   ]
  },
  {
   "cell_type": "code",
   "execution_count": 18,
   "id": "5a37c21e",
   "metadata": {
    "scrolled": true
   },
   "outputs": [
    {
     "data": {
      "text/plain": [
       "array([[13.57303371, -2.12359551,  2.85393258],\n",
       "       [ 3.33707865,  0.04494382,  0.3258427 ],\n",
       "       [31.73033708, -7.23595506,  4.53932584]])"
      ]
     },
     "execution_count": 18,
     "metadata": {},
     "output_type": "execute_result"
    }
   ],
   "source": [
    "A = np.random.randint(10, size = (3,3))\n",
    "B = np.random.randint(10, size = (3,3))\n",
    "matrixCompare(A,B)"
   ]
  },
  {
   "cell_type": "code",
   "execution_count": 8,
   "id": "74cf3a8d",
   "metadata": {},
   "outputs": [],
   "source": [
    "#1 or -1 function\n",
    "def randomNum():\n",
    "    val = random.randint(1,10)\n",
    "    if(val % 2 == 0):\n",
    "        print(-1)\n",
    "    else:\n",
    "        print(1)"
   ]
  },
  {
   "cell_type": "code",
   "execution_count": 9,
   "id": "f9e24e18",
   "metadata": {
    "scrolled": false
   },
   "outputs": [
    {
     "name": "stdout",
     "output_type": "stream",
     "text": [
      "-1\n"
     ]
    }
   ],
   "source": [
    "randomNum()"
   ]
  },
  {
   "cell_type": "code",
   "execution_count": 10,
   "id": "1e36a9ad",
   "metadata": {
    "scrolled": true
   },
   "outputs": [
    {
     "name": "stdout",
     "output_type": "stream",
     "text": [
      "1\n"
     ]
    }
   ],
   "source": [
    "randomNum()"
   ]
  },
  {
   "cell_type": "code",
   "execution_count": 11,
   "id": "16976a87",
   "metadata": {
    "scrolled": true
   },
   "outputs": [
    {
     "name": "stdout",
     "output_type": "stream",
     "text": [
      "1\n"
     ]
    }
   ],
   "source": [
    "randomNum()"
   ]
  },
  {
   "cell_type": "code",
   "execution_count": 12,
   "id": "7e9a27ed",
   "metadata": {},
   "outputs": [
    {
     "name": "stdout",
     "output_type": "stream",
     "text": [
      "(1, 2, 3, 4)\n",
      "<class 'tuple'>\n"
     ]
    }
   ],
   "source": [
    "# List --> Tuple\n",
    "values = [1,2,3,4]\n",
    "tup = tuple(values) \n",
    "print(tup)\n",
    "print(type(tup))"
   ]
  },
  {
   "cell_type": "code",
   "execution_count": 13,
   "id": "9e88924f",
   "metadata": {},
   "outputs": [
    {
     "name": "stdout",
     "output_type": "stream",
     "text": [
      "[1 2 3 4]\n",
      "<class 'numpy.ndarray'>\n"
     ]
    }
   ],
   "source": [
    "# List --> Numpy Array\n",
    "vals = [1,2,3,4]\n",
    "numArr = np.asarray(vals)\n",
    "print(numArr)\n",
    "print(type(numArr))"
   ]
  },
  {
   "cell_type": "code",
   "execution_count": 14,
   "id": "e5d0ef9c",
   "metadata": {},
   "outputs": [
    {
     "data": {
      "text/plain": [
       "{0: 'Bhuvan', 1: 'abel', 2: 'Jacques'}"
      ]
     },
     "execution_count": 14,
     "metadata": {},
     "output_type": "execute_result"
    }
   ],
   "source": [
    "# List --> Dictionary\n",
    "listVals = ['Bhuvan', 'abel', 'Jacques']\n",
    "myDict = {}\n",
    "for i in range(len(listVals)):\n",
    "    myDict[i] = listVals[i]\n",
    "\n",
    "myDict"
   ]
  },
  {
   "cell_type": "code",
   "execution_count": 15,
   "id": "809f201f",
   "metadata": {},
   "outputs": [
    {
     "data": {
      "text/plain": [
       "[1, 1, 1, 1, 1, 0, 0, 0, 1, 1, 1]"
      ]
     },
     "execution_count": 15,
     "metadata": {},
     "output_type": "execute_result"
    }
   ],
   "source": [
    "#List created [5,7] using list comprehension\n",
    "randomList = [0] * 10\n",
    "for i in range(10):\n",
    "    randomList[i] = random.randint(0,11)\n",
    "\n",
    "#Holder for index\n",
    "tempList = [0] * 11\n",
    "for i in range(11):\n",
    "    tempList[i] = i\n",
    "   \n",
    "updateVal = [0 if (x >= 5 and x <= 7) else 1 for x in tempList]\n",
    "\n",
    "updateVal"
   ]
  },
  {
   "cell_type": "code",
   "execution_count": 16,
   "id": "584e5b50",
   "metadata": {},
   "outputs": [
    {
     "data": {
      "text/plain": [
       "['Odd', 'Odd', 'Even', 'Odd', 'Odd', 'Odd', 'Odd', 'Even', 'Odd', 'Odd']"
      ]
     },
     "execution_count": 16,
     "metadata": {},
     "output_type": "execute_result"
    }
   ],
   "source": [
    "#[a if C else b for i in items]\n",
    "\n",
    "#List created with even and odd \n",
    "randList = [0] * 10\n",
    "for i in range(10):\n",
    "    randList[i] = random.randint(0,11)\n",
    "    \n",
    "newList = [\"Odd\" if x != x % 2 else \"Even\" for x in randList]\n",
    "\n",
    "newList"
   ]
  },
  {
   "cell_type": "code",
   "execution_count": 17,
   "id": "ae2cb9ac",
   "metadata": {},
   "outputs": [
    {
     "data": {
      "text/plain": [
       "array([[[105, 194,  66],\n",
       "        [ 50,   1, 213],\n",
       "        [ 91, 175, 146],\n",
       "        ...,\n",
       "        [232, 209, 212],\n",
       "        [171,  58,  10],\n",
       "        [192, 148, 203]],\n",
       "\n",
       "       [[ 80, 107, 161],\n",
       "        [ 69, 218,  63],\n",
       "        [ 94, 211, 163],\n",
       "        ...,\n",
       "        [ 49, 116, 199],\n",
       "        [ 85,  45, 101],\n",
       "        [116,  67,  96]],\n",
       "\n",
       "       [[228, 128, 216],\n",
       "        [ 58, 151,   3],\n",
       "        [ 89,  53,  90],\n",
       "        ...,\n",
       "        [187, 174, 104],\n",
       "        [175,  74, 163],\n",
       "        [ 39, 172, 160]],\n",
       "\n",
       "       ...,\n",
       "\n",
       "       [[187, 176, 186],\n",
       "        [232,  58,  65],\n",
       "        [252,  13, 161],\n",
       "        ...,\n",
       "        [122, 180, 121],\n",
       "        [168, 235, 202],\n",
       "        [ 54,  76, 196]],\n",
       "\n",
       "       [[179,  27, 156],\n",
       "        [250, 222, 217],\n",
       "        [248, 183, 152],\n",
       "        ...,\n",
       "        [254, 149, 127],\n",
       "        [178, 133, 221],\n",
       "        [ 74, 237,  35]],\n",
       "\n",
       "       [[231,  86, 120],\n",
       "        [ 63, 226,  28],\n",
       "        [123, 171, 206],\n",
       "        ...,\n",
       "        [ 58, 171, 227],\n",
       "        [ 64, 203,  63],\n",
       "        [ 93, 195, 139]]])"
      ]
     },
     "execution_count": 17,
     "metadata": {},
     "output_type": "execute_result"
    }
   ],
   "source": [
    "#3D Array\n",
    "I = np.random.randint(256, size =(256,256))\n",
    "Is = np.random.randint(256, size = (256, 256, 3))\n",
    "\n",
    "for row in range(len(Is)):\n",
    "    for col in range(len(Is[1])):\n",
    "        Is[row][col][2] = I[row][col]\n",
    "\n",
    "Is"
   ]
  },
  {
   "cell_type": "code",
   "execution_count": null,
   "id": "d27950a2",
   "metadata": {},
   "outputs": [],
   "source": []
  }
 ],
 "metadata": {
  "kernelspec": {
   "display_name": "Python 3",
   "language": "python",
   "name": "python3"
  },
  "language_info": {
   "codemirror_mode": {
    "name": "ipython",
    "version": 3
   },
   "file_extension": ".py",
   "mimetype": "text/x-python",
   "name": "python",
   "nbconvert_exporter": "python",
   "pygments_lexer": "ipython3",
   "version": "3.8.8"
  }
 },
 "nbformat": 4,
 "nbformat_minor": 5
}
