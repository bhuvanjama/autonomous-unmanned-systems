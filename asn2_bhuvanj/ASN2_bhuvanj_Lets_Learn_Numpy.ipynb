{
 "cells": [
  {
   "cell_type": "code",
   "execution_count": 322,
   "id": "5c98407a",
   "metadata": {},
   "outputs": [],
   "source": [
    "#Necessary imports\n",
    "import numpy as np\n",
    "from numpy.linalg import inv\n",
    "from numpy import linalg as LNG \n",
    "import random"
   ]
  },
  {
   "cell_type": "code",
   "execution_count": 323,
   "id": "2a0ef1d1",
   "metadata": {},
   "outputs": [],
   "source": [
    "#Lets learn Numpy"
   ]
  },
  {
   "cell_type": "code",
   "execution_count": 324,
   "id": "ab7893a6",
   "metadata": {},
   "outputs": [],
   "source": [
    "#3 X 3 matricies \n",
    "A = np.matrix('1 2 3; 3 4 5; 6 7 8')\n",
    "B = np.matrix('20 21 22; 23 24 25; 26 27 28') "
   ]
  },
  {
   "cell_type": "code",
   "execution_count": 325,
   "id": "de88a7e3",
   "metadata": {},
   "outputs": [
    {
     "data": {
      "text/plain": [
       "matrix([[1, 2, 3],\n",
       "        [3, 4, 5],\n",
       "        [6, 7, 8]])"
      ]
     },
     "execution_count": 325,
     "metadata": {},
     "output_type": "execute_result"
    }
   ],
   "source": [
    "A"
   ]
  },
  {
   "cell_type": "code",
   "execution_count": 326,
   "id": "ef891ed8",
   "metadata": {},
   "outputs": [
    {
     "data": {
      "text/plain": [
       "matrix([[20, 21, 22],\n",
       "        [23, 24, 25],\n",
       "        [26, 27, 28]])"
      ]
     },
     "execution_count": 326,
     "metadata": {},
     "output_type": "execute_result"
    }
   ],
   "source": [
    "B"
   ]
  },
  {
   "cell_type": "code",
   "execution_count": 327,
   "id": "db92c9b0",
   "metadata": {},
   "outputs": [
    {
     "data": {
      "text/plain": [
       "matrix([[144, 150, 156],\n",
       "        [282, 294, 306],\n",
       "        [489, 510, 531]])"
      ]
     },
     "execution_count": 327,
     "metadata": {},
     "output_type": "execute_result"
    }
   ],
   "source": [
    "#Matrix multiplication\n",
    "np.dot(A,B)"
   ]
  },
  {
   "cell_type": "code",
   "execution_count": 328,
   "id": "bce8c20d",
   "metadata": {},
   "outputs": [
    {
     "data": {
      "text/plain": [
       "matrix([[ 20,  42,  66],\n",
       "        [ 69,  96, 125],\n",
       "        [156, 189, 224]])"
      ]
     },
     "execution_count": 328,
     "metadata": {},
     "output_type": "execute_result"
    }
   ],
   "source": [
    "#Element wise multiplication\n",
    "np.multiply(A, B)"
   ]
  },
  {
   "cell_type": "code",
   "execution_count": 329,
   "id": "4040f9a7",
   "metadata": {},
   "outputs": [],
   "source": [
    "#Reshaped to vectors and multiply\n",
    "A = np.reshape(A, 9)\n",
    "B = np.reshape(B, 9)"
   ]
  },
  {
   "cell_type": "code",
   "execution_count": 330,
   "id": "b1edbf17",
   "metadata": {},
   "outputs": [
    {
     "data": {
      "text/plain": [
       "matrix([[20, 21, 22, 23, 24, 25, 26, 27, 28]])"
      ]
     },
     "execution_count": 330,
     "metadata": {},
     "output_type": "execute_result"
    }
   ],
   "source": [
    "B"
   ]
  },
  {
   "cell_type": "code",
   "execution_count": 331,
   "id": "7790fa09",
   "metadata": {},
   "outputs": [
    {
     "data": {
      "text/plain": [
       "matrix([[   144.,  -4384.,   2192.],\n",
       "        [  1344., -10880.,   1344.],\n",
       "        [ -5648.,   3104.,  -1552.]])"
      ]
     },
     "execution_count": 331,
     "metadata": {},
     "output_type": "execute_result"
    }
   ],
   "source": [
    "#Transpose of A * B * Inverse of A\n",
    "Acopy = np.matrix('1 2 3; 3 4 5; 6 7 8')\n",
    "Bcopy = np.matrix('20 21 22; 23 24 25; 26 27 28') \n",
    "Atran = np.transpose(Acopy)\n",
    "Ainv = inv(Acopy)\n",
    "val = np.dot(Atran, Bcopy)\n",
    "np.dot(val, Ainv)"
   ]
  },
  {
   "cell_type": "code",
   "execution_count": 332,
   "id": "58d2212d",
   "metadata": {},
   "outputs": [],
   "source": [
    "#Concatenate A and B to make C\n",
    "C = np.concatenate((A,B))"
   ]
  },
  {
   "cell_type": "code",
   "execution_count": 333,
   "id": "5bae94d4",
   "metadata": {},
   "outputs": [
    {
     "data": {
      "text/plain": [
       "matrix([[ 1,  2,  3,  3,  4,  5,  6,  7,  8],\n",
       "        [20, 21, 22, 23, 24, 25, 26, 27, 28]])"
      ]
     },
     "execution_count": 333,
     "metadata": {},
     "output_type": "execute_result"
    }
   ],
   "source": [
    "C"
   ]
  },
  {
   "cell_type": "code",
   "execution_count": 334,
   "id": "efc4b9a1",
   "metadata": {},
   "outputs": [
    {
     "data": {
      "text/plain": [
       "array([20.02498439, 21.09502311, 22.20360331, 23.19482701, 24.33105012,\n",
       "       25.49509757, 26.68332813, 27.89265136, 29.12043956])"
      ]
     },
     "execution_count": 334,
     "metadata": {},
     "output_type": "execute_result"
    }
   ],
   "source": [
    "#Find the l2 norm of C\n",
    "l2 = LNG.norm(C, axis=0)\n",
    "l2"
   ]
  },
  {
   "cell_type": "code",
   "execution_count": 335,
   "id": "cdcb0a0e",
   "metadata": {},
   "outputs": [],
   "source": [
    "#Random Mask I\n",
    "I = np.random.randint(256, size =(256,256))"
   ]
  },
  {
   "cell_type": "code",
   "execution_count": 336,
   "id": "b3c65bb1",
   "metadata": {},
   "outputs": [
    {
     "data": {
      "text/plain": [
       "array([[237, 165,  39, ..., 155,  23, 154],\n",
       "       [141, 248, 204, ...,  21, 197,  60],\n",
       "       [ 57,  11, 191, ...,  46,  75, 109],\n",
       "       ...,\n",
       "       [232, 200, 194, ...,  42,  61, 247],\n",
       "       [214, 241, 123, ...,  27, 197,  85],\n",
       "       [ 86,  81,  67, ..., 212,  17, 193]])"
      ]
     },
     "execution_count": 336,
     "metadata": {},
     "output_type": "execute_result"
    }
   ],
   "source": [
    "I"
   ]
  },
  {
   "cell_type": "code",
   "execution_count": 337,
   "id": "7ab69349",
   "metadata": {},
   "outputs": [],
   "source": [
    "#Randoom mask M\n",
    "M = np.random.randint(2, size = (256, 256))"
   ]
  },
  {
   "cell_type": "code",
   "execution_count": 338,
   "id": "df946dc4",
   "metadata": {},
   "outputs": [
    {
     "data": {
      "text/plain": [
       "array([[0, 0, 0, ..., 0, 1, 1],\n",
       "       [1, 0, 1, ..., 0, 1, 0],\n",
       "       [1, 1, 0, ..., 1, 0, 1],\n",
       "       ...,\n",
       "       [0, 1, 1, ..., 0, 1, 0],\n",
       "       [0, 0, 1, ..., 0, 0, 1],\n",
       "       [0, 1, 1, ..., 0, 0, 1]])"
      ]
     },
     "execution_count": 338,
     "metadata": {},
     "output_type": "execute_result"
    }
   ],
   "source": [
    "M"
   ]
  },
  {
   "cell_type": "code",
   "execution_count": 339,
   "id": "b015f6de",
   "metadata": {},
   "outputs": [
    {
     "data": {
      "text/plain": [
       "array([[237, 165,  39, ..., 155,   1,   1],\n",
       "       [  1, 248,   1, ...,  21,   1,  60],\n",
       "       [  1,   1, 191, ...,   1,  75,   1],\n",
       "       ...,\n",
       "       [232,   1,   1, ...,  42,   1, 247],\n",
       "       [214, 241,   1, ...,  27, 197,   1],\n",
       "       [ 86,   1,   1, ..., 212,  17,   1]])"
      ]
     },
     "execution_count": 339,
     "metadata": {},
     "output_type": "execute_result"
    }
   ],
   "source": [
    "#Replaced mask\n",
    "iFlat = I.flatten()\n",
    "mFlat = M.flatten()\n",
    "for i in range(mFlat.size):\n",
    "    if mFlat[i] == 0:\n",
    "        mFlat[i] = iFlat[i]\n",
    "\n",
    "mFlat.reshape(256,256)"
   ]
  }
 ],
 "metadata": {
  "kernelspec": {
   "display_name": "Python 3",
   "language": "python",
   "name": "python3"
  },
  "language_info": {
   "codemirror_mode": {
    "name": "ipython",
    "version": 3
   },
   "file_extension": ".py",
   "mimetype": "text/x-python",
   "name": "python",
   "nbconvert_exporter": "python",
   "pygments_lexer": "ipython3",
   "version": "3.8.8"
  }
 },
 "nbformat": 4,
 "nbformat_minor": 5
}
